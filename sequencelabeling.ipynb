{
  "cells": [
    {
      "cell_type": "markdown",
      "metadata": {
        "deletable": false,
        "editable": false,
        "id": "JbIS2e2POfsR"
      },
      "source": [
        "# Sequence Labeling\n",
        "\n",
        "In this assignment, you will work on the [MeasEval](https://competitions.codalab.org/competitions/25770) shared task that was part of SemEval-2021. The goal of **MeasEval** is  the extraction of counts, measurements, and related context from scientific documents. The task is a complex problem that involves solving a number of steps that range from identifying quantities and units of measurement to identify relationships between them. For this assignment, you will focus only on the *Quantity* recognition step:\n",
        "\n",
        "*  Given a paragraph from a scientific text, identify all spans containing quantities like *12 kg*. This problem can be approached as a Sequence Labeling task.\n",
        "\n",
        "You will develop a Recurrent Neural Network with [keras](https://keras.io/), a high-level Deep Learning API written in **Python** that provides a user-friendly interface for the [TensorFlow](https://www.tensorflow.org/) library, one of the most popular low-level Deep Learning frameworks. You will use the following objects and functions:"
      ]
    },
    {
      "cell_type": "code",
      "execution_count": 1,
      "metadata": {
        "deletable": false,
        "editable": false,
        "id": "UlRLBac_OfsV",
        "tags": [
          "imports"
        ]
      },
      "outputs": [],
      "source": [
        "import pandas as pd\n",
        "import numpy as np\n",
        "from tensorflow.keras.utils import set_random_seed\n",
        "from tensorflow.keras.preprocessing.sequence import pad_sequences\n",
        "from tensorflow.keras.models import Sequential\n",
        "from tensorflow.keras.layers import Input, Embedding, LSTM, Dense, Bidirectional, TimeDistributed\n",
        "from tensorflow.keras.initializers import Constant\n",
        "from sklearn.metrics import classification_report"
      ]
    },
    {
      "cell_type": "code",
      "execution_count": 2,
      "metadata": {
        "deletable": false,
        "editable": false,
        "id": "TQIua1NUOfsX"
      },
      "outputs": [],
      "source": [
        "# Enable Eager mode to avoid issues with TimeDistributed layer in Keras 3\n",
        "import tensorflow as tf\n",
        "tf.config.run_functions_eagerly(True)\n",
        "tf.data.experimental.enable_debug_mode()"
      ]
    },
    {
      "cell_type": "markdown",
      "metadata": {
        "deletable": false,
        "editable": false,
        "id": "CQMCzBu1OfsX"
      },
      "source": [
        "When working with Neural Networks, there are a large number of random operations such as initializing the weights of the network, shuffling the data for training, or choosing samples. This causes that different training runs of the same model can lead to different results. To ensure reproducibility, i.e. obtaining the same results in the different runs, the random number generator must be initialized with a fixed value known as seed. In **keras**, this can be done as follows:"
      ]
    },
    {
      "cell_type": "code",
      "execution_count": 3,
      "metadata": {
        "deletable": false,
        "editable": false,
        "id": "dIrLvMdzOfsX"
      },
      "outputs": [],
      "source": [
        "seed = 42\n",
        "set_random_seed(seed)"
      ]
    },
    {
      "cell_type": "markdown",
      "metadata": {
        "deletable": false,
        "editable": false,
        "id": "WVufcy99OfsY"
      },
      "source": [
        "When developing a model, if the results you get are not as expected, try re-initializing the seed by running the cell above before compiling and training the model.\n",
        "\n",
        "> **Note!** With models as complex as Neural Networks, reproducibility is susceptible to factors such as software versions or the hardware on which the models are run. Even with seed initialization, there may be slight differences in the results.\n",
        "\n",
        "Working with Neural Networks also involves defining a number of hyperparameters that set the configuration of the model. Finding the appropriate hyperparameter values requires training the model with different combinations and testing them on the development set. This hyperparameter tuning is a costly process that needs multiple rounds of experimentation. However, for this assignments, you will use the following values:"
      ]
    },
    {
      "cell_type": "code",
      "execution_count": 4,
      "metadata": {
        "deletable": false,
        "editable": false,
        "id": "Cq00xiClOfsY"
      },
      "outputs": [],
      "source": [
        "maxlen = 130  # Maximum length of the input sequence accepted by the model\n",
        "epochs = 5  # Number of epochs to train the model\n",
        "batch_size = 64  # Number of examples used per gradient update\n",
        "embedding_dim = 300  # Dimension of the embeddings\n",
        "rnn_units = 256  # Number of units per RNN layer"
      ]
    },
    {
      "cell_type": "markdown",
      "metadata": {
        "deletable": false,
        "editable": false,
        "id": "xmiusK2nOfsY"
      },
      "source": [
        "Training a Deep Learning model with a large train set can be a time-consuming process, as the model needs to iterate over the entire set multiple times, often requiring significant computational resources. During the implementation of the model, it is often a good practice to use only a subset of the training data. This allows a faster debugging of the code. Set the `shrink_dataset` variable as `True` when a faster training is required and set it as `False` to train the model on the whole train set:"
      ]
    },
    {
      "cell_type": "code",
      "execution_count": 5,
      "metadata": {
        "id": "btGDS_GkOfsY"
      },
      "outputs": [],
      "source": [
        "shrink_dataset = False"
      ]
    },
    {
      "cell_type": "markdown",
      "metadata": {
        "deletable": false,
        "editable": false,
        "id": "FUqawSdCOfsZ"
      },
      "source": [
        "Although the value of this variable does not affect the tests that will evaluate your code, the output examples distributed throughout this notebook are based on a `shrink_dataset` variable set as `False`.\n",
        "\n",
        "The train set for the assignment consists of 248 articles with 1366 sentences in total. The test set contains 136 articles with 848 sentences. A development set with 65 documents and 459 sentences is also provided. The dataset is annotated at the token level following a BIO schema with 3 labels: *B-Quantity*, *I-Quantity* and *O*.  The dataset can be loaded into three `DataFrames` as follows:"
      ]
    },
    {
      "cell_type": "code",
      "execution_count": 6,
      "metadata": {
        "deletable": false,
        "editable": false,
        "id": "7sGBy5pUOfsZ"
      },
      "outputs": [],
      "source": [
        "def load_data(data_path, shrink_dataset, seed):\n",
        "    data = pd.read_csv(data_path, sep=\"\\t\", encoding=\"utf8\").dropna()\n",
        "    if shrink_dataset:\n",
        "        sample = data[[\"docId\",  \"sentId\"]].drop_duplicates().sample(frac=0.2, random_state=seed)\n",
        "        data = pd.merge(data, sample, on=[\"docId\", \"sentId\"])\n",
        "    return data"
      ]
    },
    {
      "cell_type": "code",
      "execution_count": 11,
      "metadata": {
        "colab": {
          "base_uri": "https://localhost:8080/",
          "height": 582
        },
        "deletable": false,
        "editable": false,
        "id": "dT7yfKPJOfsZ",
        "outputId": "92e12ead-df0c-4bc4-b954-2027cebe0767"
      },
      "outputs": [
        {
          "data": {
            "application/vnd.google.colaboratory.intrinsic+json": {
              "summary": "{\n  \"name\": \"train_data[(train_data\",\n  \"rows\": 17,\n  \"fields\": [\n    {\n      \"column\": \"docId\",\n      \"properties\": {\n        \"dtype\": \"category\",\n        \"num_unique_values\": 1,\n        \"samples\": [\n          \"S0378383912000130-3601\"\n        ],\n        \"semantic_type\": \"\",\n        \"description\": \"\"\n      }\n    },\n    {\n      \"column\": \"sentId\",\n      \"properties\": {\n        \"dtype\": \"number\",\n        \"std\": 0,\n        \"min\": 3,\n        \"max\": 3,\n        \"num_unique_values\": 1,\n        \"samples\": [\n          3\n        ],\n        \"semantic_type\": \"\",\n        \"description\": \"\"\n      }\n    },\n    {\n      \"column\": \"word\",\n      \"properties\": {\n        \"dtype\": \"string\",\n        \"num_unique_values\": 16,\n        \"samples\": [\n          \"The\"\n        ],\n        \"semantic_type\": \"\",\n        \"description\": \"\"\n      }\n    },\n    {\n      \"column\": \"lemma\",\n      \"properties\": {\n        \"dtype\": \"string\",\n        \"num_unique_values\": 16,\n        \"samples\": [\n          \"the\"\n        ],\n        \"semantic_type\": \"\",\n        \"description\": \"\"\n      }\n    },\n    {\n      \"column\": \"label\",\n      \"properties\": {\n        \"dtype\": \"category\",\n        \"num_unique_values\": 3,\n        \"samples\": [\n          \"O\"\n        ],\n        \"semantic_type\": \"\",\n        \"description\": \"\"\n      }\n    }\n  ]\n}",
              "type": "dataframe"
            },
            "text/html": [
              "\n",
              "  <div id=\"df-1b689ef5-7c9d-4ba9-83a4-809a40cd40d2\" class=\"colab-df-container\">\n",
              "    <div>\n",
              "<style scoped>\n",
              "    .dataframe tbody tr th:only-of-type {\n",
              "        vertical-align: middle;\n",
              "    }\n",
              "\n",
              "    .dataframe tbody tr th {\n",
              "        vertical-align: top;\n",
              "    }\n",
              "\n",
              "    .dataframe thead th {\n",
              "        text-align: right;\n",
              "    }\n",
              "</style>\n",
              "<table border=\"1\" class=\"dataframe\">\n",
              "  <thead>\n",
              "    <tr style=\"text-align: right;\">\n",
              "      <th></th>\n",
              "      <th>docId</th>\n",
              "      <th>sentId</th>\n",
              "      <th>word</th>\n",
              "      <th>lemma</th>\n",
              "      <th>label</th>\n",
              "    </tr>\n",
              "  </thead>\n",
              "  <tbody>\n",
              "    <tr>\n",
              "      <th>22276</th>\n",
              "      <td>S0378383912000130-3601</td>\n",
              "      <td>3</td>\n",
              "      <td>The</td>\n",
              "      <td>the</td>\n",
              "      <td>O</td>\n",
              "    </tr>\n",
              "    <tr>\n",
              "      <th>22277</th>\n",
              "      <td>S0378383912000130-3601</td>\n",
              "      <td>3</td>\n",
              "      <td>experiments</td>\n",
              "      <td>experiment</td>\n",
              "      <td>O</td>\n",
              "    </tr>\n",
              "    <tr>\n",
              "      <th>22278</th>\n",
              "      <td>S0378383912000130-3601</td>\n",
              "      <td>3</td>\n",
              "      <td>involved</td>\n",
              "      <td>involve</td>\n",
              "      <td>O</td>\n",
              "    </tr>\n",
              "    <tr>\n",
              "      <th>22279</th>\n",
              "      <td>S0378383912000130-3601</td>\n",
              "      <td>3</td>\n",
              "      <td>two</td>\n",
              "      <td>two</td>\n",
              "      <td>B-Quantity</td>\n",
              "    </tr>\n",
              "    <tr>\n",
              "      <th>22280</th>\n",
              "      <td>S0378383912000130-3601</td>\n",
              "      <td>3</td>\n",
              "      <td>beach</td>\n",
              "      <td>beach</td>\n",
              "      <td>I-Quantity</td>\n",
              "    </tr>\n",
              "    <tr>\n",
              "      <th>22281</th>\n",
              "      <td>S0378383912000130-3601</td>\n",
              "      <td>3</td>\n",
              "      <td>materials</td>\n",
              "      <td>material</td>\n",
              "      <td>I-Quantity</td>\n",
              "    </tr>\n",
              "    <tr>\n",
              "      <th>22282</th>\n",
              "      <td>S0378383912000130-3601</td>\n",
              "      <td>3</td>\n",
              "      <td>with</td>\n",
              "      <td>with</td>\n",
              "      <td>O</td>\n",
              "    </tr>\n",
              "    <tr>\n",
              "      <th>22283</th>\n",
              "      <td>S0378383912000130-3601</td>\n",
              "      <td>3</td>\n",
              "      <td>nominal</td>\n",
              "      <td>nominal</td>\n",
              "      <td>O</td>\n",
              "    </tr>\n",
              "    <tr>\n",
              "      <th>22284</th>\n",
              "      <td>S0378383912000130-3601</td>\n",
              "      <td>3</td>\n",
              "      <td>sediment</td>\n",
              "      <td>sediment</td>\n",
              "      <td>O</td>\n",
              "    </tr>\n",
              "    <tr>\n",
              "      <th>22285</th>\n",
              "      <td>S0378383912000130-3601</td>\n",
              "      <td>3</td>\n",
              "      <td>diameters</td>\n",
              "      <td>diameter</td>\n",
              "      <td>O</td>\n",
              "    </tr>\n",
              "    <tr>\n",
              "      <th>22286</th>\n",
              "      <td>S0378383912000130-3601</td>\n",
              "      <td>3</td>\n",
              "      <td>of</td>\n",
              "      <td>of</td>\n",
              "      <td>O</td>\n",
              "    </tr>\n",
              "    <tr>\n",
              "      <th>22287</th>\n",
              "      <td>S0378383912000130-3601</td>\n",
              "      <td>3</td>\n",
              "      <td>1.5</td>\n",
              "      <td>1.5</td>\n",
              "      <td>B-Quantity</td>\n",
              "    </tr>\n",
              "    <tr>\n",
              "      <th>22288</th>\n",
              "      <td>S0378383912000130-3601</td>\n",
              "      <td>3</td>\n",
              "      <td>mm</td>\n",
              "      <td>mm</td>\n",
              "      <td>I-Quantity</td>\n",
              "    </tr>\n",
              "    <tr>\n",
              "      <th>22289</th>\n",
              "      <td>S0378383912000130-3601</td>\n",
              "      <td>3</td>\n",
              "      <td>and</td>\n",
              "      <td>and</td>\n",
              "      <td>I-Quantity</td>\n",
              "    </tr>\n",
              "    <tr>\n",
              "      <th>22290</th>\n",
              "      <td>S0378383912000130-3601</td>\n",
              "      <td>3</td>\n",
              "      <td>8.5</td>\n",
              "      <td>8.5</td>\n",
              "      <td>I-Quantity</td>\n",
              "    </tr>\n",
              "    <tr>\n",
              "      <th>22291</th>\n",
              "      <td>S0378383912000130-3601</td>\n",
              "      <td>3</td>\n",
              "      <td>mm</td>\n",
              "      <td>mm</td>\n",
              "      <td>I-Quantity</td>\n",
              "    </tr>\n",
              "    <tr>\n",
              "      <th>22292</th>\n",
              "      <td>S0378383912000130-3601</td>\n",
              "      <td>3</td>\n",
              "      <td>.</td>\n",
              "      <td>.</td>\n",
              "      <td>O</td>\n",
              "    </tr>\n",
              "  </tbody>\n",
              "</table>\n",
              "</div>\n",
              "    <div class=\"colab-df-buttons\">\n",
              "\n",
              "  <div class=\"colab-df-container\">\n",
              "    <button class=\"colab-df-convert\" onclick=\"convertToInteractive('df-1b689ef5-7c9d-4ba9-83a4-809a40cd40d2')\"\n",
              "            title=\"Convert this dataframe to an interactive table.\"\n",
              "            style=\"display:none;\">\n",
              "\n",
              "  <svg xmlns=\"http://www.w3.org/2000/svg\" height=\"24px\" viewBox=\"0 -960 960 960\">\n",
              "    <path d=\"M120-120v-720h720v720H120Zm60-500h600v-160H180v160Zm220 220h160v-160H400v160Zm0 220h160v-160H400v160ZM180-400h160v-160H180v160Zm440 0h160v-160H620v160ZM180-180h160v-160H180v160Zm440 0h160v-160H620v160Z\"/>\n",
              "  </svg>\n",
              "    </button>\n",
              "\n",
              "  <style>\n",
              "    .colab-df-container {\n",
              "      display:flex;\n",
              "      gap: 12px;\n",
              "    }\n",
              "\n",
              "    .colab-df-convert {\n",
              "      background-color: #E8F0FE;\n",
              "      border: none;\n",
              "      border-radius: 50%;\n",
              "      cursor: pointer;\n",
              "      display: none;\n",
              "      fill: #1967D2;\n",
              "      height: 32px;\n",
              "      padding: 0 0 0 0;\n",
              "      width: 32px;\n",
              "    }\n",
              "\n",
              "    .colab-df-convert:hover {\n",
              "      background-color: #E2EBFA;\n",
              "      box-shadow: 0px 1px 2px rgba(60, 64, 67, 0.3), 0px 1px 3px 1px rgba(60, 64, 67, 0.15);\n",
              "      fill: #174EA6;\n",
              "    }\n",
              "\n",
              "    .colab-df-buttons div {\n",
              "      margin-bottom: 4px;\n",
              "    }\n",
              "\n",
              "    [theme=dark] .colab-df-convert {\n",
              "      background-color: #3B4455;\n",
              "      fill: #D2E3FC;\n",
              "    }\n",
              "\n",
              "    [theme=dark] .colab-df-convert:hover {\n",
              "      background-color: #434B5C;\n",
              "      box-shadow: 0px 1px 3px 1px rgba(0, 0, 0, 0.15);\n",
              "      filter: drop-shadow(0px 1px 2px rgba(0, 0, 0, 0.3));\n",
              "      fill: #FFFFFF;\n",
              "    }\n",
              "  </style>\n",
              "\n",
              "    <script>\n",
              "      const buttonEl =\n",
              "        document.querySelector('#df-1b689ef5-7c9d-4ba9-83a4-809a40cd40d2 button.colab-df-convert');\n",
              "      buttonEl.style.display =\n",
              "        google.colab.kernel.accessAllowed ? 'block' : 'none';\n",
              "\n",
              "      async function convertToInteractive(key) {\n",
              "        const element = document.querySelector('#df-1b689ef5-7c9d-4ba9-83a4-809a40cd40d2');\n",
              "        const dataTable =\n",
              "          await google.colab.kernel.invokeFunction('convertToInteractive',\n",
              "                                                    [key], {});\n",
              "        if (!dataTable) return;\n",
              "\n",
              "        const docLinkHtml = 'Like what you see? Visit the ' +\n",
              "          '<a target=\"_blank\" href=https://colab.research.google.com/notebooks/data_table.ipynb>data table notebook</a>'\n",
              "          + ' to learn more about interactive tables.';\n",
              "        element.innerHTML = '';\n",
              "        dataTable['output_type'] = 'display_data';\n",
              "        await google.colab.output.renderOutput(dataTable, element);\n",
              "        const docLink = document.createElement('div');\n",
              "        docLink.innerHTML = docLinkHtml;\n",
              "        element.appendChild(docLink);\n",
              "      }\n",
              "    </script>\n",
              "  </div>\n",
              "\n",
              "\n",
              "<div id=\"df-00fb7e15-6b69-4a8b-b464-a195854ddb8a\">\n",
              "  <button class=\"colab-df-quickchart\" onclick=\"quickchart('df-00fb7e15-6b69-4a8b-b464-a195854ddb8a')\"\n",
              "            title=\"Suggest charts\"\n",
              "            style=\"display:none;\">\n",
              "\n",
              "<svg xmlns=\"http://www.w3.org/2000/svg\" height=\"24px\"viewBox=\"0 0 24 24\"\n",
              "     width=\"24px\">\n",
              "    <g>\n",
              "        <path d=\"M19 3H5c-1.1 0-2 .9-2 2v14c0 1.1.9 2 2 2h14c1.1 0 2-.9 2-2V5c0-1.1-.9-2-2-2zM9 17H7v-7h2v7zm4 0h-2V7h2v10zm4 0h-2v-4h2v4z\"/>\n",
              "    </g>\n",
              "</svg>\n",
              "  </button>\n",
              "\n",
              "<style>\n",
              "  .colab-df-quickchart {\n",
              "      --bg-color: #E8F0FE;\n",
              "      --fill-color: #1967D2;\n",
              "      --hover-bg-color: #E2EBFA;\n",
              "      --hover-fill-color: #174EA6;\n",
              "      --disabled-fill-color: #AAA;\n",
              "      --disabled-bg-color: #DDD;\n",
              "  }\n",
              "\n",
              "  [theme=dark] .colab-df-quickchart {\n",
              "      --bg-color: #3B4455;\n",
              "      --fill-color: #D2E3FC;\n",
              "      --hover-bg-color: #434B5C;\n",
              "      --hover-fill-color: #FFFFFF;\n",
              "      --disabled-bg-color: #3B4455;\n",
              "      --disabled-fill-color: #666;\n",
              "  }\n",
              "\n",
              "  .colab-df-quickchart {\n",
              "    background-color: var(--bg-color);\n",
              "    border: none;\n",
              "    border-radius: 50%;\n",
              "    cursor: pointer;\n",
              "    display: none;\n",
              "    fill: var(--fill-color);\n",
              "    height: 32px;\n",
              "    padding: 0;\n",
              "    width: 32px;\n",
              "  }\n",
              "\n",
              "  .colab-df-quickchart:hover {\n",
              "    background-color: var(--hover-bg-color);\n",
              "    box-shadow: 0 1px 2px rgba(60, 64, 67, 0.3), 0 1px 3px 1px rgba(60, 64, 67, 0.15);\n",
              "    fill: var(--button-hover-fill-color);\n",
              "  }\n",
              "\n",
              "  .colab-df-quickchart-complete:disabled,\n",
              "  .colab-df-quickchart-complete:disabled:hover {\n",
              "    background-color: var(--disabled-bg-color);\n",
              "    fill: var(--disabled-fill-color);\n",
              "    box-shadow: none;\n",
              "  }\n",
              "\n",
              "  .colab-df-spinner {\n",
              "    border: 2px solid var(--fill-color);\n",
              "    border-color: transparent;\n",
              "    border-bottom-color: var(--fill-color);\n",
              "    animation:\n",
              "      spin 1s steps(1) infinite;\n",
              "  }\n",
              "\n",
              "  @keyframes spin {\n",
              "    0% {\n",
              "      border-color: transparent;\n",
              "      border-bottom-color: var(--fill-color);\n",
              "      border-left-color: var(--fill-color);\n",
              "    }\n",
              "    20% {\n",
              "      border-color: transparent;\n",
              "      border-left-color: var(--fill-color);\n",
              "      border-top-color: var(--fill-color);\n",
              "    }\n",
              "    30% {\n",
              "      border-color: transparent;\n",
              "      border-left-color: var(--fill-color);\n",
              "      border-top-color: var(--fill-color);\n",
              "      border-right-color: var(--fill-color);\n",
              "    }\n",
              "    40% {\n",
              "      border-color: transparent;\n",
              "      border-right-color: var(--fill-color);\n",
              "      border-top-color: var(--fill-color);\n",
              "    }\n",
              "    60% {\n",
              "      border-color: transparent;\n",
              "      border-right-color: var(--fill-color);\n",
              "    }\n",
              "    80% {\n",
              "      border-color: transparent;\n",
              "      border-right-color: var(--fill-color);\n",
              "      border-bottom-color: var(--fill-color);\n",
              "    }\n",
              "    90% {\n",
              "      border-color: transparent;\n",
              "      border-bottom-color: var(--fill-color);\n",
              "    }\n",
              "  }\n",
              "</style>\n",
              "\n",
              "  <script>\n",
              "    async function quickchart(key) {\n",
              "      const quickchartButtonEl =\n",
              "        document.querySelector('#' + key + ' button');\n",
              "      quickchartButtonEl.disabled = true;  // To prevent multiple clicks.\n",
              "      quickchartButtonEl.classList.add('colab-df-spinner');\n",
              "      try {\n",
              "        const charts = await google.colab.kernel.invokeFunction(\n",
              "            'suggestCharts', [key], {});\n",
              "      } catch (error) {\n",
              "        console.error('Error during call to suggestCharts:', error);\n",
              "      }\n",
              "      quickchartButtonEl.classList.remove('colab-df-spinner');\n",
              "      quickchartButtonEl.classList.add('colab-df-quickchart-complete');\n",
              "    }\n",
              "    (() => {\n",
              "      let quickchartButtonEl =\n",
              "        document.querySelector('#df-00fb7e15-6b69-4a8b-b464-a195854ddb8a button');\n",
              "      quickchartButtonEl.style.display =\n",
              "        google.colab.kernel.accessAllowed ? 'block' : 'none';\n",
              "    })();\n",
              "  </script>\n",
              "</div>\n",
              "\n",
              "    </div>\n",
              "  </div>\n"
            ],
            "text/plain": [
              "                        docId  sentId         word       lemma       label\n",
              "22276  S0378383912000130-3601       3          The         the           O\n",
              "22277  S0378383912000130-3601       3  experiments  experiment           O\n",
              "22278  S0378383912000130-3601       3     involved     involve           O\n",
              "22279  S0378383912000130-3601       3          two         two  B-Quantity\n",
              "22280  S0378383912000130-3601       3        beach       beach  I-Quantity\n",
              "22281  S0378383912000130-3601       3    materials    material  I-Quantity\n",
              "22282  S0378383912000130-3601       3         with        with           O\n",
              "22283  S0378383912000130-3601       3      nominal     nominal           O\n",
              "22284  S0378383912000130-3601       3     sediment    sediment           O\n",
              "22285  S0378383912000130-3601       3    diameters    diameter           O\n",
              "22286  S0378383912000130-3601       3           of          of           O\n",
              "22287  S0378383912000130-3601       3          1.5         1.5  B-Quantity\n",
              "22288  S0378383912000130-3601       3           mm          mm  I-Quantity\n",
              "22289  S0378383912000130-3601       3          and         and  I-Quantity\n",
              "22290  S0378383912000130-3601       3          8.5         8.5  I-Quantity\n",
              "22291  S0378383912000130-3601       3           mm          mm  I-Quantity\n",
              "22292  S0378383912000130-3601       3            .           .           O"
            ]
          },
          "execution_count": 11,
          "metadata": {},
          "output_type": "execute_result"
        }
      ],
      "source": [
        "train_data = load_data(\"data/train.tsv\", shrink_dataset, seed)\n",
        "dev_data = load_data(\"data/trial.tsv\", shrink_dataset, seed)\n",
        "test_data = load_data(\"data/eval.tsv\", shrink_dataset, seed)\n",
        "train_data[(train_data.docId == \"S0378383912000130-3601\") & (train_data.sentId == 3)]"
      ]
    },
    {
      "cell_type": "markdown",
      "metadata": {
        "deletable": false,
        "editable": false,
        "id": "kUR5slzwOfsZ"
      },
      "source": [
        "The `DataFrames` created include the lemmatization of words in the `lemma` columns. You will use the lemmas as the input of the model."
      ]
    },
    {
      "cell_type": "markdown",
      "metadata": {
        "deletable": false,
        "editable": false,
        "id": "AGHaKdrXOfsZ"
      },
      "source": [
        "## Data Pre-processing\n",
        "\n",
        "In this assignment, you will have to implement some steps to pre-process and obtain a representation of the data. You will implement a model with an `Embedding` lookup table as the input layer, so the tokens of the input sentences should be represented as indexes. The target labels should also be represented in similar way. Besides, as one would expect, the sentences in the **MeasEval** dataset have different lengths. However, the input for a Deep Learning model is a batch of examples (in this case, sentences) in the form of a single tensor which requires that all examples in the batch must have the same length. Therefore, the sentences should be padded or truncated to a specific length.\n",
        "\n",
        "> **Note!** For this particular task, the `maxlen` value provided to you guarantees that padding is sufficient to make all sentences the same length without the need for truncation.\n",
        "\n",
        "This first of these pre-processing steps will be to obtain both a vocabulary and the set of labels from the train set. The vocabulary should be the list of unique lemmas and must include the special tokens `[PAD]`, that will be used for padding the sequences, and `[UNK]`, that will be used to represent out-of-vocabulary words. Along with the vocabulary and the label set, you will also have to build a dictionary mapping each lemma to its position in the vocabulary and a dictionary mapping each label to its position in the label set. These dictionaries will be used later to obtain the representation of the input and output of the model. The text is already tokenized and lemmatized which will help in this task.\n",
        "\n",
        "You must complete the code for the `get_vocabulary` function that takes as input the `DataFrame` containing the train set. The function should create a list with the all the unique lemmas and include the special tokens `[PAD]` and `[UNK]` in the first two positions. Similarly, the function should create a list with the unique labels with the special token `[PAD]` in the first position. The **pandas** library provides some [functions](https://pandas.pydata.org/docs/reference/index.html) that may help you. Along with those lists, `get_vocabulary` should return the dictionaries mapping the lemmas and the labels to their corresponding positions. In total, the vocabulary and the label set should have 5508 and 4 items respectively:\n",
        "\n",
        "> Vocabulary size: 5508  \n",
        "Vocabulary first 5 lemmas: ['[PAD]', '[UNK]', 'datum', 'be', 'draw']  \n",
        "Vocabulary dictionary: {'[PAD]': 0, '[UNK]': 1, 'datum': 2, 'be': 3, 'draw': 4}  \n",
        ">\n",
        ">Labels size: 4  \n",
        "Labels: ['[PAD]', 'O', 'B-Quantity', 'I-Quantity']  \n",
        "Labels dictionary: {'[PAD]': 0, 'O': 1, 'B-Quantity': 2, 'I-Quantity': 3}  \n"
      ]
    },
    {
      "cell_type": "code",
      "execution_count": null,
      "metadata": {
        "id": "QR13KQgwOfsZ",
        "tags": [
          "get_vocabulary"
        ]
      },
      "outputs": [],
      "source": [
        "def get_vocabulary(train_data):\n",
        "    \"\"\"Creates vocabulary and label dictionaries.\"\"\"\n",
        "    vocab_list = ['[PAD]', '[UNK]']\n",
        "    unique_vocab = train_data['lemma'].unique()\n",
        "    vocab_list += list(unique_vocab)\n",
        "    word2idx = {vocab : idx for idx, vocab in enumerate(vocab_list)}\n",
        "    label_list = ['[PAD]']\n",
        "    unique_labels = train_data['label'].unique()\n",
        "    label_list += list(unique_labels)\n",
        "    label2idx = {label : idx for idx, label in enumerate(label_list)}\n",
        "    return vocab_list, word2idx, label_list, label2idx"
      ]
    },
    {
      "cell_type": "code",
      "execution_count": 15,
      "metadata": {
        "colab": {
          "base_uri": "https://localhost:8080/"
        },
        "deletable": false,
        "editable": false,
        "id": "Dc-qtN_4Ofsa",
        "outputId": "18161652-9d11-4747-8d01-f9c30524044d"
      },
      "outputs": [
        {
          "name": "stdout",
          "output_type": "stream",
          "text": [
            "Vocabulary size: 5508\n",
            "Vocabulary first 5 words: ['[PAD]', '[UNK]', 'datum', 'be', 'draw']\n",
            "Vocabulary dictionary: {'[PAD]': 0, '[UNK]': 1, 'datum': 2, 'be': 3, 'draw': 4}\n",
            "\n",
            "Labels size: 4\n",
            "Labels: ['[PAD]', 'O', 'B-Quantity', 'I-Quantity']\n",
            "Labels dictionary: {'[PAD]': 0, 'O': 1, 'B-Quantity': 2, 'I-Quantity': 3}\n"
          ]
        }
      ],
      "source": [
        "vocab, word2idx, labels, label2idx = get_vocabulary(train_data)\n",
        "vocab_size = len(vocab)\n",
        "label_size = len(labels)\n",
        "print(f\"Vocabulary size: {vocab_size}\")\n",
        "print(f\"Vocabulary first 5 words: {vocab[:5]}\")\n",
        "print(f\"Vocabulary dictionary: { {w: word2idx[w] for w in vocab[:5]}}\")\n",
        "print(\"\")\n",
        "print(f\"Labels size: {label_size}\")\n",
        "print(f\"Labels: {labels}\")\n",
        "print(f\"Labels dictionary: {label2idx}\")"
      ]
    },
    {
      "cell_type": "markdown",
      "metadata": {
        "deletable": false,
        "editable": false,
        "id": "LlQnQFXCOfsa"
      },
      "source": [
        "Since the *Quantity* recognition task is a Sequence Labeling problem, the input for the model must be the sequence of lemmas in the sentence and the output the sequence of labels. Therefore, the train, development and test `DataFrames` must be reformated by aggregating the data corresponding to each sentence. The `integrate_sentences` will do this for you. The output of `integrate_sentences` is a `DataFrame` with a row for each sentence and the columns `lemmas` and `labels` that contain the list of lemmas and the list of labels of the sentences respectively.  "
      ]
    },
    {
      "cell_type": "code",
      "execution_count": 16,
      "metadata": {
        "deletable": false,
        "editable": false,
        "id": "9YfMs8E-Ofsa",
        "tags": [
          "sentence_integrate"
        ]
      },
      "outputs": [],
      "source": [
        "def integrate_sentences(data):\n",
        "    agg_func = lambda s: [s['lemma'].values.tolist(), s['label'].values.tolist()]\n",
        "    data = data.groupby([\"docId\", \"sentId\"], sort=False).apply(agg_func, include_groups=False).reset_index().rename(columns={0: 'lemmas_labels'})\n",
        "    data['lemmas'] = data.apply(lambda x: x['lemmas_labels'][0], axis=1)\n",
        "    data['labels'] = data.apply(lambda x: x['lemmas_labels'][1], axis=1)\n",
        "    data = data.drop(columns=\"lemmas_labels\")\n",
        "    return data"
      ]
    },
    {
      "cell_type": "code",
      "execution_count": 17,
      "metadata": {
        "colab": {
          "base_uri": "https://localhost:8080/",
          "height": 132
        },
        "deletable": false,
        "editable": false,
        "id": "-r0dgUhJOfsa",
        "outputId": "3a76a49d-5ada-4085-861d-c2f0dc0e19ae"
      },
      "outputs": [
        {
          "data": {
            "application/vnd.google.colaboratory.intrinsic+json": {
              "summary": "{\n  \"name\": \"train_examples[(train_examples\",\n  \"rows\": 1,\n  \"fields\": [\n    {\n      \"column\": \"docId\",\n      \"properties\": {\n        \"dtype\": \"string\",\n        \"num_unique_values\": 1,\n        \"samples\": [\n          \"S0378383912000130-3601\"\n        ],\n        \"semantic_type\": \"\",\n        \"description\": \"\"\n      }\n    },\n    {\n      \"column\": \"sentId\",\n      \"properties\": {\n        \"dtype\": \"number\",\n        \"std\": null,\n        \"min\": 3,\n        \"max\": 3,\n        \"num_unique_values\": 1,\n        \"samples\": [\n          3\n        ],\n        \"semantic_type\": \"\",\n        \"description\": \"\"\n      }\n    },\n    {\n      \"column\": \"lemmas\",\n      \"properties\": {\n        \"dtype\": \"object\",\n        \"semantic_type\": \"\",\n        \"description\": \"\"\n      }\n    },\n    {\n      \"column\": \"labels\",\n      \"properties\": {\n        \"dtype\": \"object\",\n        \"semantic_type\": \"\",\n        \"description\": \"\"\n      }\n    }\n  ]\n}",
              "type": "dataframe"
            },
            "text/html": [
              "\n",
              "  <div id=\"df-649fb6ee-6c84-447c-9411-293e948bc5aa\" class=\"colab-df-container\">\n",
              "    <div>\n",
              "<style scoped>\n",
              "    .dataframe tbody tr th:only-of-type {\n",
              "        vertical-align: middle;\n",
              "    }\n",
              "\n",
              "    .dataframe tbody tr th {\n",
              "        vertical-align: top;\n",
              "    }\n",
              "\n",
              "    .dataframe thead th {\n",
              "        text-align: right;\n",
              "    }\n",
              "</style>\n",
              "<table border=\"1\" class=\"dataframe\">\n",
              "  <thead>\n",
              "    <tr style=\"text-align: right;\">\n",
              "      <th></th>\n",
              "      <th>docId</th>\n",
              "      <th>sentId</th>\n",
              "      <th>lemmas</th>\n",
              "      <th>labels</th>\n",
              "    </tr>\n",
              "  </thead>\n",
              "  <tbody>\n",
              "    <tr>\n",
              "      <th>767</th>\n",
              "      <td>S0378383912000130-3601</td>\n",
              "      <td>3</td>\n",
              "      <td>[the, experiment, involve, two, beach, material, with, nominal, sediment, diameter, of, 1.5, mm, and, 8.5, mm, .]</td>\n",
              "      <td>[O, O, O, B-Quantity, I-Quantity, I-Quantity, O, O, O, O, O, B-Quantity, I-Quantity, I-Quantity, I-Quantity, I-Quantity, O]</td>\n",
              "    </tr>\n",
              "  </tbody>\n",
              "</table>\n",
              "</div>\n",
              "    <div class=\"colab-df-buttons\">\n",
              "\n",
              "  <div class=\"colab-df-container\">\n",
              "    <button class=\"colab-df-convert\" onclick=\"convertToInteractive('df-649fb6ee-6c84-447c-9411-293e948bc5aa')\"\n",
              "            title=\"Convert this dataframe to an interactive table.\"\n",
              "            style=\"display:none;\">\n",
              "\n",
              "  <svg xmlns=\"http://www.w3.org/2000/svg\" height=\"24px\" viewBox=\"0 -960 960 960\">\n",
              "    <path d=\"M120-120v-720h720v720H120Zm60-500h600v-160H180v160Zm220 220h160v-160H400v160Zm0 220h160v-160H400v160ZM180-400h160v-160H180v160Zm440 0h160v-160H620v160ZM180-180h160v-160H180v160Zm440 0h160v-160H620v160Z\"/>\n",
              "  </svg>\n",
              "    </button>\n",
              "\n",
              "  <style>\n",
              "    .colab-df-container {\n",
              "      display:flex;\n",
              "      gap: 12px;\n",
              "    }\n",
              "\n",
              "    .colab-df-convert {\n",
              "      background-color: #E8F0FE;\n",
              "      border: none;\n",
              "      border-radius: 50%;\n",
              "      cursor: pointer;\n",
              "      display: none;\n",
              "      fill: #1967D2;\n",
              "      height: 32px;\n",
              "      padding: 0 0 0 0;\n",
              "      width: 32px;\n",
              "    }\n",
              "\n",
              "    .colab-df-convert:hover {\n",
              "      background-color: #E2EBFA;\n",
              "      box-shadow: 0px 1px 2px rgba(60, 64, 67, 0.3), 0px 1px 3px 1px rgba(60, 64, 67, 0.15);\n",
              "      fill: #174EA6;\n",
              "    }\n",
              "\n",
              "    .colab-df-buttons div {\n",
              "      margin-bottom: 4px;\n",
              "    }\n",
              "\n",
              "    [theme=dark] .colab-df-convert {\n",
              "      background-color: #3B4455;\n",
              "      fill: #D2E3FC;\n",
              "    }\n",
              "\n",
              "    [theme=dark] .colab-df-convert:hover {\n",
              "      background-color: #434B5C;\n",
              "      box-shadow: 0px 1px 3px 1px rgba(0, 0, 0, 0.15);\n",
              "      filter: drop-shadow(0px 1px 2px rgba(0, 0, 0, 0.3));\n",
              "      fill: #FFFFFF;\n",
              "    }\n",
              "  </style>\n",
              "\n",
              "    <script>\n",
              "      const buttonEl =\n",
              "        document.querySelector('#df-649fb6ee-6c84-447c-9411-293e948bc5aa button.colab-df-convert');\n",
              "      buttonEl.style.display =\n",
              "        google.colab.kernel.accessAllowed ? 'block' : 'none';\n",
              "\n",
              "      async function convertToInteractive(key) {\n",
              "        const element = document.querySelector('#df-649fb6ee-6c84-447c-9411-293e948bc5aa');\n",
              "        const dataTable =\n",
              "          await google.colab.kernel.invokeFunction('convertToInteractive',\n",
              "                                                    [key], {});\n",
              "        if (!dataTable) return;\n",
              "\n",
              "        const docLinkHtml = 'Like what you see? Visit the ' +\n",
              "          '<a target=\"_blank\" href=https://colab.research.google.com/notebooks/data_table.ipynb>data table notebook</a>'\n",
              "          + ' to learn more about interactive tables.';\n",
              "        element.innerHTML = '';\n",
              "        dataTable['output_type'] = 'display_data';\n",
              "        await google.colab.output.renderOutput(dataTable, element);\n",
              "        const docLink = document.createElement('div');\n",
              "        docLink.innerHTML = docLinkHtml;\n",
              "        element.appendChild(docLink);\n",
              "      }\n",
              "    </script>\n",
              "  </div>\n",
              "\n",
              "\n",
              "    </div>\n",
              "  </div>\n"
            ],
            "text/plain": [
              "                      docId  sentId  \\\n",
              "767  S0378383912000130-3601       3   \n",
              "\n",
              "                                                                                                                lemmas  \\\n",
              "767  [the, experiment, involve, two, beach, material, with, nominal, sediment, diameter, of, 1.5, mm, and, 8.5, mm, .]   \n",
              "\n",
              "                                                                                                                          labels  \n",
              "767  [O, O, O, B-Quantity, I-Quantity, I-Quantity, O, O, O, O, O, B-Quantity, I-Quantity, I-Quantity, I-Quantity, I-Quantity, O]  "
            ]
          },
          "execution_count": 17,
          "metadata": {},
          "output_type": "execute_result"
        }
      ],
      "source": [
        "train_examples = integrate_sentences(train_data)\n",
        "dev_examples = integrate_sentences(dev_data)\n",
        "test_examples = integrate_sentences(test_data)\n",
        "pd.set_option('display.max_colwidth', None)\n",
        "train_examples[(train_examples.docId == \"S0378383912000130-3601\") & (train_examples.sentId == 3)]"
      ]
    },
    {
      "cell_type": "markdown",
      "metadata": {
        "id": "fdKEkzUQOfsa"
      },
      "source": [
        "The dataset is now ready for you to get the numerical representation of both input and output. You must perform two steps to process the sequence of lemmas and the sequence of labels:\n",
        "1. For each sentence, translate each lemma or label to its corresponding index using the `word2idx` and `label2idx` dictionaries. In case the lemma is not found in `word2idx`, use the index of the `[UNK]` token instead.\n",
        "2. Pad both the sequences of lemmas and the sequences of labels to the same length as defined by the `maxlen` variable. For this, you should use the [pad_sequences](https://www.tensorflow.org/api_docs/python/tf/keras/utils/pad_sequences) function with its default padding strategy. This function uses `0` as the default padding value which corresponds to the index of the `[PAD]` token in the vocabulary.   \n",
        "\n",
        "You must complete the code for the `format_examples` function. This function takes as input a `DataFrame` in the format returned by `integrate_sentences`, the `word2idx` and `label2idx` dictionaries, and the `maxlen` variable. The function must run the steps described above and return a **numpy** array with the processed lemma sequences and a **numpy** array with the processed label sequences that will be used as input and output of the model respectively. Applying `format_examples` to the train, development and test sets should result on 6 arrays with the following shapes:\n",
        "\n",
        ">Shape of train input data :  (1366, 130)  \n",
        "Shape of train output data :  (1366, 130)  \n",
        "Shape of development input data :  (459, 130)  \n",
        "Shape of development output data :  (459, 130)  \n",
        "Shape of test input data :  (848, 130)  \n",
        "Shape of test output data :  (848, 130)  "
      ]
    },
    {
      "cell_type": "code",
      "execution_count": null,
      "metadata": {
        "id": "i9IYN66DOfsa",
        "tags": [
          "format_examples"
        ]
      },
      "outputs": [],
      "source": [
        "def format_examples(data, word2idx, label2idx, maxlen):\n",
        "    lemmas_seq = data['lemmas']\n",
        "    labels_seq = data['labels']\n",
        "    \n",
        "    x = [[word2idx.get(word, word2idx['[UNK]']) for word in seq] for seq in lemmas_seq]\n",
        "    y = [[label2idx.get(label, label2idx['[PAD]']) for label in seq] for seq in labels_seq]\n",
        "    \n",
        "    x = pad_sequences(x, maxlen=maxlen, padding='post')\n",
        "    y = pad_sequences(y, maxlen=maxlen, padding='post')\n",
        "    \n",
        "    return x, y"
      ]
    },
    {
      "cell_type": "code",
      "execution_count": 19,
      "metadata": {
        "colab": {
          "base_uri": "https://localhost:8080/"
        },
        "deletable": false,
        "editable": false,
        "id": "BAOHEC-qOfsa",
        "outputId": "7292160b-c29e-4a21-b6c5-d43aa08585da"
      },
      "outputs": [
        {
          "name": "stdout",
          "output_type": "stream",
          "text": [
            "Shape of train input data:  (1366, 130)\n",
            "Shape of train output data:  (1366, 130)\n",
            "Shape of development input data:  (459, 130)\n",
            "Shape of development output data:  (459, 130)\n",
            "Shape of train input data:  (848, 130)\n",
            "Shape of test output data:  (848, 130)\n"
          ]
        }
      ],
      "source": [
        "x_train, y_train = format_examples(train_examples, word2idx, label2idx, maxlen)\n",
        "x_dev, y_dev = format_examples(dev_examples, word2idx, label2idx, maxlen)\n",
        "x_test, y_test = format_examples(test_examples, word2idx, label2idx, maxlen)\n",
        "print(\"Shape of train input data: \", x_train.shape)\n",
        "print(\"Shape of train output data: \", y_train.shape)\n",
        "print(\"Shape of development input data: \", x_dev.shape)\n",
        "print(\"Shape of development output data: \", y_dev.shape)\n",
        "print(\"Shape of train input data: \", x_test.shape)\n",
        "print(\"Shape of test output data: \", y_test.shape)"
      ]
    },
    {
      "cell_type": "markdown",
      "metadata": {
        "deletable": false,
        "editable": false,
        "id": "dNhJT2eQOfsb"
      },
      "source": [
        "## Recurrent Neural Network\n",
        "\n",
        "There are three ways to create a neural network with **keras**: using the [Functional API](https://keras.io/guides/functional_api/), by [Model subclassing](https://keras.io/guides/making_new_layers_and_models_via_subclassing/) or creating a [Sequential model](https://keras.io/guides/sequential_model/). In this assignment, you will use the latter option. A `Sequential` model is a straightforward approach to build simple neural networks by stacking the layers. You will construct a RNN with the following 3 layers:\n",
        "1. An [Input](https://keras.io/api/layers/core_layers/input/) layer where the length of the input sequences is set to `maxlen`.\n",
        "2. An [Embedding](https://keras.io/api/layers/core_layers/embedding/) layer with an input dimension equal to the vocabulary size and an embedding dimension defined by `embedding_dim`. The layer must also mask out the padding values so that they are not considered when computing the loss.\n",
        "3. A Bidirectional [LSTM](https://keras.io/api/layers/recurrent_layers/lstm/) layer with a number of units determined by `rnn_units`. Since you are working on Sequence Labeling, the `LSTM` must return outputs for the full sequence. To make it Bidirectional, the `LSTM` must be wrapped by a [Bidirectional](https://keras.io/api/layers/recurrent_layers/bidirectional/) layer.\n",
        "4. A [Dense](https://keras.io/api/layers/core_layers/dense/) layer with a number of units equal to the number of labels and a `softmax` activation function.  Since you are working on Sequence Labeling, the `Dense` layer must be wrapped by a [TimeDistributed](https://keras.io/api/layers/recurrent_layers/time_distributed/) layer.\n",
        "\n",
        "You must complete the code for the `create_model` function. This function takes as input the size of the vocabulary, the number of labels and the `maxlen`, `embedding_dim` and `rnn_units` hyperparameters. The function must create a RNN according to the configuration described above. Read carefully all the linked documentation to learn how to create such a model.  Any option not mentioned in the description should be kept with its default value. The summary of the resulting model should look like:\n",
        "\n",
        "\n",
        "> <pre>\n",
        "> Model: \"sequential_1\"\n",
        "> __________________________________________________________________________________________\n",
        "> Layer (type)                           Output Shape                        Param #       \n",
        "> ==========================================================================================\n",
        "> embedding_1 (Embedding)               (None, 130, 300)                    1652400       \n",
        ">                                                                                          \n",
        "> bidirectional_1 (Bidirectional)       (None, 130, 512)                    1140736       \n",
        ">                                                                                          \n",
        "> time_distributed_1 (TimeDistributed)  (None, 130, 4)                      2052          \n",
        ">                                                                                          \n",
        "> ==========================================================================================\n",
        "> Total params: 2,795,188\n",
        "> Trainable params: 2,795,188\n",
        "> Non-trainable params: 0\n",
        "> __________________________________________________________________________________________\n",
        "> </pre>\n",
        "\n",
        "Before returning the model, the `create_model` function should [compile](https://keras.io/api/models/model_training_apis/#compile-method) it using `'sparse_categorical_crossentropy'` as the loss function, `'adam'` as the optimizer and `'sparse_categorical_accuracy'` as a metric to evaluate the model during training."
      ]
    },
    {
      "cell_type": "code",
      "execution_count": null,
      "metadata": {
        "id": "fd9OATFOOfsb",
        "tags": [
          "create_model"
        ]
      },
      "outputs": [],
      "source": [
        "def create_model(vocab_size, label_size, maxlen, embedding_dim, rnn_units):\n",
        "    #\n",
        "    #  REPLACE THE pass STATEMENT WITH YOUR CODE\n",
        "    #\n",
        "    pass"
      ]
    },
    {
      "cell_type": "code",
      "execution_count": null,
      "metadata": {
        "deletable": false,
        "editable": false,
        "id": "MgRSn5qxOfsb"
      },
      "outputs": [],
      "source": [
        "model = create_model(vocab_size, label_size, maxlen, embedding_dim, rnn_units)\n",
        "model.summary(line_length=90)"
      ]
    },
    {
      "cell_type": "markdown",
      "metadata": {
        "deletable": false,
        "editable": false,
        "id": "pzs9M8DROfsb"
      },
      "source": [
        "Once the data has been processed and the model has been compiled, you can proceed to train it.\n",
        "\n",
        "You must complete the `train_model` function. The function takes as input the model created by `create_model`, the train input and output obtained by `format_examples` as well as the development input and output produced by the same function. The function also takes the `batch_size` and `epochs` hyperparameters. The function should train the model on the training data using those hyperparameters. During the training, `train_model` should evaluate the loss and any model metrics on the development data. With `shrink_dataset = False`, the training will take several minutes."
      ]
    },
    {
      "cell_type": "code",
      "execution_count": null,
      "metadata": {
        "id": "PSbiengbOfsb",
        "tags": [
          "train_model"
        ]
      },
      "outputs": [],
      "source": [
        "def train_model(model, x_train, y_train, x_dev, y_dev, batch_size, epochs):\n",
        "    #\n",
        "    #  REPLACE THE pass STATEMENT WITH YOUR CODE\n",
        "    #\n",
        "    pass"
      ]
    },
    {
      "cell_type": "code",
      "execution_count": null,
      "metadata": {
        "deletable": false,
        "editable": false,
        "id": "vQlGpyLbOfsb"
      },
      "outputs": [],
      "source": [
        "train_model(model, x_train, y_train, x_dev, y_dev, batch_size, epochs)"
      ]
    },
    {
      "cell_type": "markdown",
      "metadata": {
        "deletable": false,
        "editable": false,
        "id": "Y2DPN1LKOfsc"
      },
      "source": [
        "After training, the model can be used to make predictions on unlabeled data using the [predict](https://keras.io/api/models/model_training_apis/#predict-method) method.\n",
        "\n",
        "You must complete the code for the `make_predictions` function. The functions takes as input the model already trained, the test input data produced by `format_examples` and the `batch_size` hyperparameter. The function must run the `predict` method on the input data using batches of size equal to `batch_size`. The `predict` method will return a **numpy** array with 3 axes: `(number of sentences, maxlen, label_size)`. For each token in each sentence, `predict` returns a vector with the probabilities predicted for every label. The output of `make_predictions` must include only the index of the label with the highest probability for each token. For example, if the prediction for one token is the vector `[0.04974193, 0.1511916, 0.65180656, 0.14725993]`, the output for that token should be `2`. For this, you can apply the [argmax](https://numpy.org/doc/stable/reference/generated/numpy.argmax.html) method along the last axis of the **numpy** array."
      ]
    },
    {
      "cell_type": "code",
      "execution_count": null,
      "metadata": {
        "id": "2hdR-99qOfsc",
        "tags": [
          "make_predictions"
        ]
      },
      "outputs": [],
      "source": [
        "def make_predictions(model, x_test, batch_size):\n",
        "    #\n",
        "    #  REPLACE THE pass STATEMENT WITH YOUR CODE\n",
        "    #\n",
        "    pass"
      ]
    },
    {
      "cell_type": "code",
      "execution_count": null,
      "metadata": {
        "deletable": false,
        "editable": false,
        "id": "tllnIvhDOfsc"
      },
      "outputs": [],
      "source": [
        "predictions = make_predictions(model, x_test, batch_size)"
      ]
    },
    {
      "cell_type": "markdown",
      "metadata": {
        "deletable": false,
        "editable": false,
        "id": "rtJCOJ-iOfsc"
      },
      "source": [
        "Since the predictions are now label indexes, they can be translated to the corresponding label by accessing the `labels` list. The `predictions_to_labels` functions iterates over all the sequences in the test set and translates the prediction of each token to the corresponding label. The function skips the padding tokens. The new format of the predictions can be stored in the `prediction` column of the test `DataFrame`."
      ]
    },
    {
      "cell_type": "code",
      "execution_count": null,
      "metadata": {
        "id": "esxpTuBkOfsc"
      },
      "outputs": [],
      "source": [
        "def predictions_to_labels(predictions, x_test, labels):\n",
        "    pred_labels = []\n",
        "    for pred_seq, x_seq in zip(predictions, x_test):\n",
        "        pred_seq_labels = [labels[p] for p, x in zip(pred_seq, x_seq) if x!=0]\n",
        "        pred_labels.extend(pred_seq_labels)\n",
        "    return pred_labels"
      ]
    },
    {
      "cell_type": "code",
      "execution_count": null,
      "metadata": {
        "deletable": false,
        "editable": false,
        "id": "D4MXo_hgOfsd"
      },
      "outputs": [],
      "source": [
        "test_data['prediction'] = predictions_to_labels(predictions, x_test, labels)\n",
        "test_data[(test_data.docId == \"S0038071711004354-1624\") & (test_data.sentId == 2)]"
      ]
    },
    {
      "cell_type": "markdown",
      "metadata": {
        "deletable": false,
        "editable": false,
        "id": "NvVxeXG8Ofsd"
      },
      "source": [
        "Although it is not the usual way of evaluating Sequence Labeling tasks, **MeasEval** uses a metric based on the Reading Comprehension *Macro-Averaged F1*. This metric measures the amount of overlapping tokens between the predictions and the true labels. In this assignment, we will approximate this metric by evaluating how many tokens belonging to a *Quantity* are captured by the model. This is done by the `evaluate` function. For the model trained above, the result of this evaluation should look like:\n",
        "\n",
        "> <pre>\n",
        ">               precision    recall  f1-score   support\n",
        ">\n",
        ">     Quantity       0.86      0.73      0.79      1263\n",
        ">\n",
        ">    micro avg       0.86      0.73      0.79      1263\n",
        ">    macro avg       0.86      0.73      0.79      1263\n",
        "> weighted avg       0.86      0.73      0.79      1263\n",
        "> </pre>"
      ]
    },
    {
      "cell_type": "code",
      "execution_count": null,
      "metadata": {
        "deletable": false,
        "editable": false,
        "id": "W-fTyThkOfsd"
      },
      "outputs": [],
      "source": [
        "def evaluate(data):\n",
        "    labels = data.apply(lambda x: x['label'].replace(\"B-\", \"\").replace(\"I-\", \"\"), axis=1).values\n",
        "    predictions = data.apply(lambda x: x['prediction'].replace(\"B-\", \"\").replace(\"I-\", \"\"), axis=1).values\n",
        "    print(classification_report(labels, predictions, labels=[\"Quantity\"]))"
      ]
    },
    {
      "cell_type": "code",
      "execution_count": null,
      "metadata": {
        "deletable": false,
        "editable": false,
        "id": "E3l_8cKNOfsd"
      },
      "outputs": [],
      "source": [
        "evaluate(test_data)"
      ]
    },
    {
      "cell_type": "markdown",
      "metadata": {
        "deletable": false,
        "editable": false,
        "id": "-6wCln0tOfsd"
      },
      "source": [
        "## Pre-trained Word Embeddings\n",
        "\n",
        "Initializing neural networks with pre-trained word embeddings has a significant impact on many NLP tasks. In the following exercise, you will experiment whether this is also the case for *Quantity* recognition using **GloVe**. You can refer to the following tutorial to learn how to complete this exercise with **keras**: [Using pre-trained word embeddings\n",
        "](https://keras.io/examples/nlp/pretrained_word_embeddings/)\n",
        "\n",
        "\n",
        "First, the `load_embeddings` function will load **GloVe** and return a dictionary mapping words to their embeddings."
      ]
    },
    {
      "cell_type": "code",
      "execution_count": null,
      "metadata": {
        "deletable": false,
        "editable": false,
        "id": "cuTFUWhpOfsd"
      },
      "outputs": [],
      "source": [
        "def load_embeddings(glove_path):\n",
        "    embedding_index = {}\n",
        "    with open(glove_path, encoding=\"utf8\") as glove_file:\n",
        "        for line in glove_file:\n",
        "            word, coefs = line.split(maxsplit=1)\n",
        "            coefs = np.fromstring(coefs, \"f\", sep=\" \")\n",
        "            embedding_index[word] = coefs\n",
        "    return embedding_index"
      ]
    },
    {
      "cell_type": "code",
      "execution_count": null,
      "metadata": {
        "deletable": false,
        "editable": false,
        "id": "xlxebT7iOfsi"
      },
      "outputs": [],
      "source": [
        "glove_path = f\"glove/glove.6B.{embedding_dim}d.txt\"\n",
        "embedding_index = load_embeddings(glove_path)"
      ]
    },
    {
      "cell_type": "markdown",
      "metadata": {
        "deletable": false,
        "editable": false,
        "id": "SrDlc76WOfsi"
      },
      "source": [
        "To initialize the `Embedding` layer with the **GloVe** embeddings, you have to create a matrix with `(vocab_size, embedding_dim)` dimensions. The *i-th* row in the matrix corresponds to the *i-th* lemma in the vocabulary and contains the **GloVe** embedding for that lemma.\n",
        "\n",
        "You must complete the code for the `create_embedding_matrix` function. The function takes the embedding dictionary created by `load_embeddings`, the vocabulary dictionary, the size of the vocabulary and the `embedding_dim` hyperparameter. The function should initialize a `(vocab_size, embedding_dim)` **numpy** array with zeros and then replace each row with the appropriate **GloVe** embedding if the corresponding lemma exists in the embedding dictionary. For example, the embedding for \"*statistic*\" should exist in the resulting `embedding_matrix`:\n",
        "> <pre>\n",
        "> array([ 0.1085   ,  0.82802  ,  0.10672  ,  0.0094136, -0.30441  ,\n",
        ">         0.75618  , -0.14705  , -0.15469  , -0.97372  , -0.60413  , ...,\n",
        ">         0.0066196,  0.17067  ,  0.16759  ,  0.63236  ,  0.22037  ,\n",
        ">        -0.2467   , -0.20493  , -0.55613  ,  0.013659 , -0.35642  ])\n",
        "</pre>"
      ]
    },
    {
      "cell_type": "code",
      "execution_count": null,
      "metadata": {
        "id": "5-LcOtY-Ofsj",
        "tags": [
          "create_embedding_matrix"
        ]
      },
      "outputs": [],
      "source": [
        "def create_embedding_matrix(embedding_index, word2idx, vocab_size, embedding_dim):\n",
        "    #\n",
        "    #  REPLACE THE pass STATEMENT WITH YOUR CODE\n",
        "    #\n",
        "    pass"
      ]
    },
    {
      "cell_type": "code",
      "execution_count": null,
      "metadata": {
        "deletable": false,
        "editable": false,
        "id": "r2Jy1TIcOfsj"
      },
      "outputs": [],
      "source": [
        "embedding_matrix = create_embedding_matrix(embedding_index, word2idx, vocab_size, embedding_dim)\n",
        "with np.printoptions(linewidth=75, precision=7, edgeitems=10, threshold=10):\n",
        "    display(embedding_matrix[word2idx[\"statistic\"]])"
      ]
    },
    {
      "cell_type": "markdown",
      "metadata": {
        "deletable": false,
        "editable": false,
        "id": "iIIyqCV2Ofsj"
      },
      "source": [
        "Finally, you can create a new model and load the pre-trained word embedding matrix into the `Embedding` layer.\n",
        "\n",
        "You must complete the code for the `create_model_with_embeddings` function. This function takes as input the size of the vocabulary, the number of labels, the `maxlen`, `embedding_dim` and `rnn_units` hyperparameters, and the embedding matrix created by `create_embedding_matrix`. The function should construct, compile and return a RNN equal to the one built in `create_model` with the only difference that the `Embedding` layer must be initialized with the embedding matrix. Use the [Constant](https://keras.io/api/layers/initializers/) initializer for this purpose. For this task, the Embedding layer must be kept trainable so the embeddings can be updated during training.\n",
        "\n",
        "The initialized weights of the `Embedding` layer for this version of the RNN should look like:\n",
        "> <pre>\n",
        "> array([[ 0.      ,  0.      ,  0.      ,  0.      , ...,  0.      ,  0.      ,  0.      ,  0.      ],\n",
        ">        [ 0.      ,  0.      ,  0.      ,  0.      , ...,  0.      ,  0.      ,  0.      ,  0.      ],\n",
        ">        [ 0.72004 ,  0.80955 ,  0.7717  , -0.10769 , ..., -0.15423 ,  0.39351 , -0.47083 , -0.60759 ],\n",
        ">        [-0.33848 ,  0.42841 , -0.10284 , -0.22054 , ...,  0.04933 , -0.79888 , -0.41967 , -0.14039 ],\n",
        ">        ...,\n",
        ">        [ 0.1593  ,  0.30671 ,  0.093787,  0.20868 , ...,  1.0097  , -0.76431 , -0.12928 ,  0.29616 ],\n",
        ">        [ 0.      ,  0.      ,  0.      ,  0.      , ...,  0.      ,  0.      ,  0.      ,  0.      ],\n",
        ">        [-0.40124 , -0.27991 , -0.42446 , -0.96387 , ...,  0.4937  ,  0.45576 ,  0.61864 , -0.30489 ],\n",
        ">        [ 0.      ,  0.      ,  0.      ,  0.      , ...,  0.      ,  0.      ,  0.      ,  0.      ]],\n",
        ">       dtype=float32)\n",
        "> </pre>"
      ]
    },
    {
      "cell_type": "code",
      "execution_count": null,
      "metadata": {
        "id": "l-2ENA9YOfsj",
        "tags": [
          "create_model_with_embeddings"
        ]
      },
      "outputs": [],
      "source": [
        "def create_model_with_embeddings(vocab_size, label_size, maxlen, embedding_dim, rnn_units, embedding_matrix):\n",
        "    #\n",
        "    #  REPLACE THE pass STATEMENT WITH YOUR CODE\n",
        "    #\n",
        "    pass"
      ]
    },
    {
      "cell_type": "code",
      "execution_count": null,
      "metadata": {
        "deletable": false,
        "editable": false,
        "id": "c41Yu4ljOfsj"
      },
      "outputs": [],
      "source": [
        "model_with_embeddings = create_model_with_embeddings(vocab_size, label_size, maxlen, embedding_dim, rnn_units, embedding_matrix)\n",
        "with np.printoptions(linewidth=110, precision=7, edgeitems=4):\n",
        "    display(model_with_embeddings.get_layer(index=0).get_weights()[0])"
      ]
    },
    {
      "cell_type": "markdown",
      "metadata": {
        "deletable": false,
        "editable": false,
        "id": "PqFy30Z5Ofsj"
      },
      "source": [
        "Initializing the `Embedding` layer with **GloVe** embeddings should have a positive impact on the model performance for *Quantity* recognition.\n",
        "\n",
        "> <pre>\n",
        ">               precision    recall  f1-score   support\n",
        ">\n",
        ">     Quantity       0.85      0.79      0.82      1263\n",
        ">\n",
        ">    micro avg       0.85      0.79      0.82      1263\n",
        ">    macro avg       0.85      0.79      0.82      1263\n",
        "> weighted avg       0.85      0.79      0.82      1263\n",
        "> </pre>"
      ]
    },
    {
      "cell_type": "code",
      "execution_count": null,
      "metadata": {
        "deletable": false,
        "editable": false,
        "id": "Sca0iFSJOfsj"
      },
      "outputs": [],
      "source": [
        "train_model(model_with_embeddings, x_train, y_train, x_dev, y_dev, batch_size, epochs)"
      ]
    },
    {
      "cell_type": "code",
      "execution_count": null,
      "metadata": {
        "deletable": false,
        "editable": false,
        "id": "AhXTnjcfOfsj"
      },
      "outputs": [],
      "source": [
        "predictions_with_embeddings = make_predictions(model_with_embeddings, x_test, batch_size)\n",
        "test_data['prediction'] = predictions_to_labels(predictions_with_embeddings, x_test, labels)"
      ]
    },
    {
      "cell_type": "code",
      "execution_count": null,
      "metadata": {
        "deletable": false,
        "editable": false,
        "id": "XYr8YeHzOfsj"
      },
      "outputs": [],
      "source": [
        "evaluate(test_data)"
      ]
    },
    {
      "cell_type": "code",
      "execution_count": null,
      "metadata": {
        "id": "V8C_rmqmOfsk"
      },
      "outputs": [],
      "source": []
    }
  ],
  "metadata": {
    "colab": {
      "provenance": []
    },
    "kernelspec": {
      "display_name": "Python 3 (ipykernel)",
      "language": "python",
      "name": "python3"
    },
    "language_info": {
      "codemirror_mode": {
        "name": "ipython",
        "version": 3
      },
      "file_extension": ".py",
      "mimetype": "text/x-python",
      "name": "python",
      "nbconvert_exporter": "python",
      "pygments_lexer": "ipython3",
      "version": "3.9.0"
    }
  },
  "nbformat": 4,
  "nbformat_minor": 0
}
